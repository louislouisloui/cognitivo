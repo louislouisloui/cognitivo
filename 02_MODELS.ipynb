{
 "cells": [
  {
   "cell_type": "code",
   "execution_count": 70,
   "metadata": {},
   "outputs": [
    {
     "name": "stdout",
     "output_type": "stream",
     "text": [
      "The autoreload extension is already loaded. To reload it, use:\n",
      "  %reload_ext autoreload\n"
     ]
    }
   ],
   "source": [
    "import pandas as pd\n",
    "import numpy as np\n",
    "from matplotlib import pyplot as plt\n",
    "import seaborn as sns\n",
    "from sklearn.preprocessing import RobustScaler, PolynomialFeatures\n",
    "from sklearn.linear_model import LinearRegression, Lasso\n",
    "from sklearn.metrics import r2_score, mean_absolute_error\n",
    "from sklearn.model_selection import train_test_split\n",
    "from sklearn.pipeline import Pipeline\n",
    "from sklearn.grid_search import GridSearchCV\n",
    "from sklearn.svm import SVR\n",
    "from sklearn.ensemble import RandomForestRegressor\n",
    "from sklearn.cross_validation import cross_val_score\n",
    "from sklearn.neighbors import KNeighborsRegressor\n",
    "\n",
    "%load_ext autoreload\n",
    "%autoreload 2"
   ]
  },
  {
   "cell_type": "markdown",
   "metadata": {},
   "source": [
    "# TL;DR"
   ]
  },
  {
   "cell_type": "code",
   "execution_count": 25,
   "metadata": {},
   "outputs": [],
   "source": [
    "result = {}"
   ]
  },
  {
   "cell_type": "code",
   "execution_count": 86,
   "metadata": {},
   "outputs": [
    {
     "data": {
      "text/html": [
       "<div>\n",
       "<style scoped>\n",
       "    .dataframe tbody tr th:only-of-type {\n",
       "        vertical-align: middle;\n",
       "    }\n",
       "\n",
       "    .dataframe tbody tr th {\n",
       "        vertical-align: top;\n",
       "    }\n",
       "\n",
       "    .dataframe thead th {\n",
       "        text-align: right;\n",
       "    }\n",
       "</style>\n",
       "<table border=\"1\" class=\"dataframe\">\n",
       "  <thead>\n",
       "    <tr style=\"text-align: right;\">\n",
       "      <th></th>\n",
       "      <th>MSE</th>\n",
       "      <th>PARAMS</th>\n",
       "    </tr>\n",
       "  </thead>\n",
       "  <tbody>\n",
       "    <tr>\n",
       "      <th>RF</th>\n",
       "      <td>0.611837</td>\n",
       "      <td>{'rf_model__min_samples_leaf': 20, 'rf_model__n_estimators': 50}</td>\n",
       "    </tr>\n",
       "    <tr>\n",
       "      <th>SVM</th>\n",
       "      <td>0.632443</td>\n",
       "      <td>c=1,e=1,kernal: rbf</td>\n",
       "    </tr>\n",
       "    <tr>\n",
       "      <th>KNN</th>\n",
       "      <td>0.658088</td>\n",
       "      <td>{'knn__n_neighbors': 20}</td>\n",
       "    </tr>\n",
       "    <tr>\n",
       "      <th>linear</th>\n",
       "      <td>0.691759</td>\n",
       "      <td>{'lasso__alpha': 24, 'poly__degree': 3}</td>\n",
       "    </tr>\n",
       "  </tbody>\n",
       "</table>\n",
       "</div>"
      ],
      "text/plain": [
       "             MSE  \\\n",
       "RF      0.611837   \n",
       "SVM     0.632443   \n",
       "KNN     0.658088   \n",
       "linear  0.691759   \n",
       "\n",
       "                                                                  PARAMS  \n",
       "RF      {'rf_model__min_samples_leaf': 20, 'rf_model__n_estimators': 50}  \n",
       "SVM                                                  c=1,e=1,kernal: rbf  \n",
       "KNN                                             {'knn__n_neighbors': 20}  \n",
       "linear                           {'lasso__alpha': 24, 'poly__degree': 3}  "
      ]
     },
     "execution_count": 86,
     "metadata": {},
     "output_type": "execute_result"
    }
   ],
   "source": [
    "pd.DataFrame(result).T.sort_values('MSE', ascending=True)"
   ]
  },
  {
   "cell_type": "markdown",
   "metadata": {},
   "source": [
    "* O RF e o modelo com o melhor MSE. \n",
    "* De maneira geral, todos eles tiveram dificuldade pra modelisar a nao linearidade da distribuicao. \n",
    "* Uma direccao a ser explorada e de forcar os modelos a fitar em cima dos eventos raros. Varias estrategias sao possiveis: trocar a metrica e trocar pra um problema de classificacao, oversamplear os eventos raros. \n",
    "* Tambem, seria bom investigar mais o SVM, em particular numa versao com uns kernels nao linears, por exemplo um polinimal. De fato, nao tive como aprofundar mais as variacoes desse modelo dado que os testes que tentei fazer nos kernels polynomials rodaram horas sem acabar. Com uma infra mais poderosa, com uma maquina com GPU por exemplo, seria viavel."
   ]
  },
  {
   "cell_type": "markdown",
   "metadata": {},
   "source": [
    "# PIPELINE"
   ]
  },
  {
   "cell_type": "markdown",
   "metadata": {},
   "source": [
    "## IMPORT AND CLEANING"
   ]
  },
  {
   "cell_type": "markdown",
   "metadata": {},
   "source": [
    "### IMPORT"
   ]
  },
  {
   "cell_type": "code",
   "execution_count": 12,
   "metadata": {},
   "outputs": [],
   "source": [
    "dt = pd.read_csv('winequality.csv', sep=\";\")"
   ]
  },
  {
   "cell_type": "markdown",
   "metadata": {},
   "source": [
    "### CLEANING"
   ]
  },
  {
   "cell_type": "code",
   "execution_count": 13,
   "metadata": {},
   "outputs": [],
   "source": [
    "dt.loc[dt.alcohol.str.match('[0-9]+\\.+[0-9]+\\.+'),'alcohol'] = dt.loc[dt.alcohol.str.match('[0-9]+\\.+[0-9]+\\.+'),:]['alcohol'].apply(lambda x: x.split('.')[0]).map(lambda x: int(x)/10)\n",
    "dt.alcohol = dt['alcohol'].map(float)"
   ]
  },
  {
   "cell_type": "code",
   "execution_count": 14,
   "metadata": {},
   "outputs": [],
   "source": [
    "dt=pd.get_dummies(dt,drop_first=True)"
   ]
  },
  {
   "cell_type": "markdown",
   "metadata": {},
   "source": [
    "## MODELS"
   ]
  },
  {
   "cell_type": "code",
   "execution_count": 15,
   "metadata": {},
   "outputs": [],
   "source": [
    "train, test = train_test_split(dt,test_size = 0.2)"
   ]
  },
  {
   "cell_type": "markdown",
   "metadata": {},
   "source": [
    "### LINEAR"
   ]
  },
  {
   "cell_type": "code",
   "execution_count": 109,
   "metadata": {},
   "outputs": [],
   "source": [
    "scaler = RobustScaler(quantile_range=(0.01,0.99))\n",
    "poly = PolynomialFeatures(5)\n",
    "lasso = Lasso(alpha=20)"
   ]
  },
  {
   "cell_type": "code",
   "execution_count": 110,
   "metadata": {},
   "outputs": [],
   "source": [
    "pipe_linear= Pipeline([('scaler',scaler),\n",
    "               ('poly', poly),\n",
    "               ('lasso',lasso)])"
   ]
  },
  {
   "cell_type": "code",
   "execution_count": 119,
   "metadata": {},
   "outputs": [],
   "source": [
    "pipe_linear_params = {'lasso__alpha':(24,32), 'poly__degree': (3,4)}\n",
    "grid_linear = GridSearchCV(pipe_linear, pipe_linear_params, scoring = 'neg_mean_absolute_error',cv = 10)\n",
    "grid_linear.fit(X = dt.drop('quality', axis = 1).values, y = dt.quality)\n",
    "import warnings\n",
    "warnings.simplefilter('ignore')"
   ]
  },
  {
   "cell_type": "code",
   "execution_count": 120,
   "metadata": {},
   "outputs": [
    {
     "name": "stdout",
     "output_type": "stream",
     "text": [
      "Best MSE: -0.6917585473649551\n",
      "Achieved with params: {'lasso__alpha': 24, 'poly__degree': 3}\n"
     ]
    }
   ],
   "source": [
    "print(f'Best MSE: {grid.best_score_}')\n",
    "print(f'Achieved with params: {grid.best_params_}')"
   ]
  },
  {
   "cell_type": "code",
   "execution_count": 121,
   "metadata": {},
   "outputs": [
    {
     "name": "stdout",
     "output_type": "stream",
     "text": [
      "0.6249364946134874\n"
     ]
    },
    {
     "data": {
      "text/plain": [
       "<seaborn.axisgrid.FacetGrid at 0x127e99ac8>"
      ]
     },
     "execution_count": 121,
     "metadata": {},
     "output_type": "execute_result"
    },
    {
     "data": {
      "image/png": "[encoded data removed]",
      "text/plain": [
       "<Figure size 360x360 with 1 Axes>"
      ]
     },
     "metadata": {},
     "output_type": "display_data"
    }
   ],
   "source": [
    "y_pred = grid_linear.predict(dt.drop('quality', axis = 1).values)\n",
    "print(mean_absolute_error(y_pred,dt.quality))\n",
    "y_res = np.abs(dt.quality-y_pred)\n",
    "dt_res = pd.DataFrame({'x':dt.quality, 'y': y_res})\n",
    "sns.relplot(data = dt_res, x = 'x', y = 'y')"
   ]
  },
  {
   "cell_type": "code",
   "execution_count": 35,
   "metadata": {},
   "outputs": [],
   "source": [
    "result.update({'linear':{'MSE':abs(grid_linear.best_score_), 'PARAMS':grid_linear.best_params_}})"
   ]
  },
  {
   "cell_type": "markdown",
   "metadata": {},
   "source": [
    "### SVM"
   ]
  },
  {
   "cell_type": "code",
   "execution_count": 39,
   "metadata": {},
   "outputs": [],
   "source": [
    "svr = SVR(C = 1, epsilon= 1, kernel = 'rbf' )\n",
    "scaler = RobustScaler(quantile_range=(0.01,0.99))\n",
    "pipe_svm = Pipeline([('scaler',scaler),\n",
    "               ('svr',svr)])"
   ]
  },
  {
   "cell_type": "code",
   "execution_count": 59,
   "metadata": {},
   "outputs": [
    {
     "name": "stdout",
     "output_type": "stream",
     "text": [
      "MSE: 0.6324432471775024\n"
     ]
    }
   ],
   "source": [
    "cvs_svr = cross_val_score(pipe_svm,dt.drop('quality', axis = 1).values, dt.quality, cv = 10, scoring = 'neg_mean_absolute_error')\n",
    "print(f'MSE: {abs(cvs_svr.mean())}')"
   ]
  },
  {
   "cell_type": "code",
   "execution_count": 54,
   "metadata": {},
   "outputs": [
    {
     "data": {
      "text/plain": [
       "<seaborn.axisgrid.FacetGrid at 0x125374208>"
      ]
     },
     "execution_count": 54,
     "metadata": {},
     "output_type": "execute_result"
    },
    {
     "data": {
      "image/png": "[encoded data removed]",
      "text/plain": [
       "<Figure size 360x360 with 1 Axes>"
      ]
     },
     "metadata": {},
     "output_type": "display_data"
    }
   ],
   "source": [
    "y_pred = pipe_svm.predict(dt.drop('quality',axis = 1))\n",
    "y_res = np.abs(dt.quality-y_pred)\n",
    "dt_res = pd.DataFrame({'x':dt.quality, 'y': np.abs(y_pred-dt.quality)})\n",
    "sns.relplot(data = dt_res, x = 'x', y = 'y')"
   ]
  },
  {
   "cell_type": "code",
   "execution_count": 55,
   "metadata": {},
   "outputs": [],
   "source": [
    "result.update({'SVM':{'MSE':abs(cvs_svr.mean()),'PARAMS':'c=1,e=1,kernal: rbf'}})"
   ]
  },
  {
   "cell_type": "markdown",
   "metadata": {},
   "source": [
    "### Nearest neighbours"
   ]
  },
  {
   "cell_type": "code",
   "execution_count": 76,
   "metadata": {},
   "outputs": [],
   "source": [
    "knn = KNeighborsRegressor(n_neighbors= 2)\n",
    "pipe_knn = Pipeline([('knn',knn)])\n",
    "pipe_knn_params = {'knn__n_neighbors':(1,2,4,8,20,40,60)}"
   ]
  },
  {
   "cell_type": "code",
   "execution_count": 88,
   "metadata": {},
   "outputs": [
    {
     "name": "stdout",
     "output_type": "stream",
     "text": [
      "Fitting 10 folds for each of 7 candidates, totalling 70 fits\n",
      "Best MSE: -0.6580883484685238\n",
      "Achieved with params: {'knn__n_neighbors': 20}\n"
     ]
    },
    {
     "name": "stderr",
     "output_type": "stream",
     "text": [
      "[Parallel(n_jobs=1)]: Done  70 out of  70 | elapsed:    1.0s finished\n"
     ]
    }
   ],
   "source": [
    "grid_knn = GridSearchCV(pipe_knn, pipe_knn_params, scoring = 'neg_mean_absolute_error',verbose = 1,cv = 10)\n",
    "grid_knn.fit(X = dt.drop('quality', axis = 1).values, y = dt.quality)\n",
    "print(f'Best MSE: {grid_knn.best_score_}')\n",
    "print(f'Achieved with params: {grid_knn.best_params_}')"
   ]
  },
  {
   "cell_type": "code",
   "execution_count": 80,
   "metadata": {},
   "outputs": [],
   "source": [
    "result.update({'KNN':{'MSE':abs(grid_knn.best_score_),'PARAMS':grid_knn.best_params_}})"
   ]
  },
  {
   "cell_type": "code",
   "execution_count": 87,
   "metadata": {},
   "outputs": [
    {
     "data": {
      "text/plain": [
       "<seaborn.axisgrid.FacetGrid at 0x1257b3ac8>"
      ]
     },
     "execution_count": 87,
     "metadata": {},
     "output_type": "execute_result"
    },
    {
     "data": {
      "image/png": "[encoded data removed]",
      "text/plain": [
       "<Figure size 360x360 with 1 Axes>"
      ]
     },
     "metadata": {},
     "output_type": "display_data"
    }
   ],
   "source": [
    "y_pred = grid_knn.predict(dt.drop('quality',axis = 1))\n",
    "y_res = np.abs(dt.quality-y_pred)\n",
    "dt_res = pd.DataFrame({'x':dt.quality, 'y': np.abs(y_pred-dt.quality)})\n",
    "sns.relplot(data = dt_res, x = 'x', y = 'y')"
   ]
  },
  {
   "cell_type": "markdown",
   "metadata": {},
   "source": [
    "### Random Forest"
   ]
  },
  {
   "cell_type": "code",
   "execution_count": 64,
   "metadata": {},
   "outputs": [],
   "source": [
    "rf_model = RandomForestRegressor()\n",
    "pipe_rf = Pipeline([('rf_model',rf_model)])"
   ]
  },
  {
   "cell_type": "code",
   "execution_count": 67,
   "metadata": {},
   "outputs": [],
   "source": [
    "pipe_rf_params = {'rf_model__n_estimators':(10,30,50,100), 'rf_model__min_samples_leaf':(1,4,10,20)}"
   ]
  },
  {
   "cell_type": "code",
   "execution_count": 68,
   "metadata": {
    "scrolled": true
   },
   "outputs": [
    {
     "name": "stdout",
     "output_type": "stream",
     "text": [
      "Best MSE: -0.6118369251804433\n",
      "Achieved with params: {'rf_model__min_samples_leaf': 20, 'rf_model__n_estimators': 50}\n"
     ]
    }
   ],
   "source": [
    "grid_rf = GridSearchCV(pipe_rf, pipe_rf_params, scoring = 'neg_mean_absolute_error',cv = None)\n",
    "grid_rf.fit(X = dt.drop('quality', axis = 1).values, y = dt.quality)\n",
    "print(f'Best MSE: {grid_rf.best_score_}')\n",
    "print(f'Achieved with params: {grid_rf.best_params_}')"
   ]
  },
  {
   "cell_type": "code",
   "execution_count": 69,
   "metadata": {},
   "outputs": [],
   "source": [
    "result.update({'RF':{'MSE':abs(grid_rf.best_score_),'PARAMS':grid_rf.best_params_}})"
   ]
  },
  {
   "cell_type": "code",
   "execution_count": 122,
   "metadata": {},
   "outputs": [
    {
     "data": {
      "text/plain": [
       "<seaborn.axisgrid.FacetGrid at 0x126a15518>"
      ]
     },
     "execution_count": 122,
     "metadata": {},
     "output_type": "execute_result"
    },
    {
     "data": {
      "image/png": "[encoded data removed]",
      "text/plain": [
       "<Figure size 360x360 with 1 Axes>"
      ]
     },
     "metadata": {},
     "output_type": "display_data"
    }
   ],
   "source": [
    "y_pred = grid_rf.predict(dt.drop('quality',axis = 1))\n",
    "y_res = np.abs(dt.quality-y_pred)\n",
    "dt_res = pd.DataFrame({'x':dt.quality, 'y': np.abs(y_pred-dt.quality)})\n",
    "sns.relplot(data = dt_res, x = 'x', y = 'y')"
   ]
  }
 ],
 "metadata": {
  "kernelspec": {
   "display_name": "Python 3",
   "language": "python",
   "name": "python3"
  },
  "language_info": {
   "codemirror_mode": {
    "name": "ipython",
    "version": 3
   },
   "file_extension": ".py",
   "mimetype": "text/x-python",
   "name": "python",
   "nbconvert_exporter": "python",
   "pygments_lexer": "ipython3",
   "version": "3.6.4"
  }
 },
 "nbformat": 4,
 "nbformat_minor": 2
}
